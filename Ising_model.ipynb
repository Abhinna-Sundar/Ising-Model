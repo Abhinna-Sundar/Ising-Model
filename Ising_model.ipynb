{
 "cells": [
  {
   "cell_type": "code",
   "execution_count": null,
   "metadata": {},
   "outputs": [],
   "source": [
    "import numpy as np\n",
    "import matplotlib.pyplot as plt\n",
    "import numba\n",
    "from numba import njit\n",
    "from scipy.ndimage import convolve, generate_binary_structure"
   ]
  },
  {
   "cell_type": "code",
   "execution_count": null,
   "metadata": {},
   "outputs": [],
   "source": [
    "#%matplotlib qt"
   ]
  },
  {
   "cell_type": "code",
   "execution_count": null,
   "metadata": {},
   "outputs": [],
   "source": [
    "N=50\n",
    "init_random = np.random.random((N,N))\n",
    "lattice_n = np.zeros((N, N))\n",
    "lattice_n[init_random>=0.75] = 1\n",
    "lattice_n[init_random<0.75] = -1\n",
    "\n",
    "init_random = np.random.random((N,N))\n",
    "lattice_p = np.zeros((N, N))\n",
    "lattice_p[init_random>=0.25] = 1\n",
    "lattice_p[init_random<0.25] = -1"
   ]
  },
  {
   "cell_type": "code",
   "execution_count": null,
   "metadata": {},
   "outputs": [],
   "source": [
    "plt.imshow(lattice_p, cmap='Greys')"
   ]
  },
  {
   "cell_type": "code",
   "execution_count": null,
   "metadata": {},
   "outputs": [],
   "source": [
    "def get_energy(lattice):\n",
    "    # applies the nearest neighbours summation\n",
    "    kern = generate_binary_structure(2, 1) \n",
    "    kern[1][1] = False\n",
    "    arr = -lattice * convolve(lattice, kern, mode='constant', cval=0)\n",
    "    return arr.sum()"
   ]
  },
  {
   "cell_type": "code",
   "execution_count": null,
   "metadata": {},
   "outputs": [],
   "source": [
    "@numba.njit(\"UniTuple(f8[:], 2)(f8[:,:], i8, f8, f8)\", nopython=True, nogil=True)\n",
    "def metropolis(spin_arr, times, BJ, energy):\n",
    "    spin_arr = spin_arr.copy()\n",
    "    net_spins = np.zeros(times-1)\n",
    "    net_energy = np.zeros(times-1)\n",
    "    for t in range(0,times-1):\n",
    "        # 2. pick random point on array and flip spin\n",
    "        x = np.random.randint(0,N)\n",
    "        y = np.random.randint(0,N)\n",
    "        spin_i = spin_arr[x,y] #initial spin\n",
    "        spin_f = spin_i*-1 #proposed spin flip\n",
    "        \n",
    "        # compute change in energy\n",
    "        E_i = 0\n",
    "        E_f = 0\n",
    "        if x>0:\n",
    "            E_i += -spin_i*spin_arr[x-1,y]\n",
    "            E_f += -spin_f*spin_arr[x-1,y]\n",
    "        if x<N-1:\n",
    "            E_i += -spin_i*spin_arr[x+1,y]\n",
    "            E_f += -spin_f*spin_arr[x+1,y]\n",
    "        if y>0:\n",
    "            E_i += -spin_i*spin_arr[x,y-1]\n",
    "            E_f += -spin_f*spin_arr[x,y-1]\n",
    "        if y<N-1:\n",
    "            E_i += -spin_i*spin_arr[x,y+1]\n",
    "            E_f += -spin_f*spin_arr[x,y+1]\n",
    "        \n",
    "        # 3 / 4. change state with designated probabilities\n",
    "        dE = E_f-E_i\n",
    "        if (dE>0)*(np.random.random() < np.exp(-BJ*dE)):\n",
    "            spin_arr[x,y]=spin_f\n",
    "            energy += dE\n",
    "        elif dE<=0:\n",
    "            spin_arr[x,y]=spin_f\n",
    "            energy += dE\n",
    "            \n",
    "        net_spins[t] = spin_arr.sum()\n",
    "        net_energy[t] = energy\n",
    "            \n",
    "    return net_spins, net_energy"
   ]
  },
  {
   "cell_type": "code",
   "execution_count": null,
   "metadata": {},
   "outputs": [],
   "source": [
    "spins_n, energies_n = metropolis(lattice_n, 1000000, 0.7, get_energy(lattice_n))\n",
    "spins_p, energies_p = metropolis(lattice_p, 1000000, 0.7, get_energy(lattice_p))"
   ]
  },
  {
   "cell_type": "code",
   "execution_count": null,
   "metadata": {},
   "outputs": [],
   "source": [
    "plt.figure(figsize=[12,5])\n",
    "plt.plot(spins_n/N**2, label='75% of spins started negative', color='r')\n",
    "plt.plot(spins_p/N**2, label='75% of spins started positive', color='k')\n",
    "plt.xlabel('Algorithm Time Steps', fontsize=15)\n",
    "plt.ylabel(r'Average Magnetization $(\\bar{m})$', fontsize=15)\n",
    "plt.suptitle(r'Time Evolution of Net Magnetization for $\\beta J = 0.7$', fontsize=18)\n",
    "plt.legend(loc='best', fontsize=15)\n",
    "plt.grid()\n",
    "plt.show()"
   ]
  },
  {
   "cell_type": "code",
   "execution_count": null,
   "metadata": {},
   "outputs": [],
   "source": [
    "plt.figure(figsize=[12,5])\n",
    "plt.plot(energies_n, label='75% of spins started negative', color='r')\n",
    "plt.plot(energies_p, label='75% of spins started positive', color='k')\n",
    "plt.xlabel('Algorithm Time Steps', fontsize=15)\n",
    "plt.ylabel(r'Energy $E/J$', fontsize=15)\n",
    "plt.suptitle(r'Time Evolution of net Energy for $\\beta J = 0.7$', fontsize=18)\n",
    "plt.legend(loc='best', fontsize=15)\n",
    "plt.grid()\n",
    "plt.show()"
   ]
  },
  {
   "cell_type": "code",
   "execution_count": null,
   "metadata": {},
   "outputs": [],
   "source": [
    "def get_spin_energy(lattice, BJs):\n",
    "    ms = np.zeros(len(BJs))\n",
    "    ms_stds = np.zeros(len(BJs))\n",
    "    E_means = np.zeros(len(BJs))\n",
    "    E_stds = np.zeros(len(BJs))\n",
    "    for i, bj in enumerate(BJs):\n",
    "        spins, energies = metropolis(lattice, 1000000, bj, get_energy(lattice))\n",
    "        ms[i] = spins[-100000:].mean()/N**2\n",
    "        ms_stds[i] = spins[-100000:].std()\n",
    "        E_means[i] = energies[-100000:].mean()\n",
    "        E_stds[i] = energies[-100000:].std()\n",
    "    return ms, ms_stds, E_means, E_stds\n",
    "    \n",
    "BJs = np.arange(0.1, 2, 0.05)\n",
    "ms_n, ms_stds_n, E_means_n, E_stds_n = get_spin_energy(lattice_n, BJs)\n",
    "ms_p, ms_stds_p, E_means_p, E_stds_p = get_spin_energy(lattice_p, BJs)"
   ]
  },
  {
   "cell_type": "code",
   "execution_count": null,
   "metadata": {},
   "outputs": [],
   "source": [
    "plt.figure(figsize=[14,6])\n",
    "plt.plot(1/BJs, ms_n, 'o--', label='75% of spins started negative', color='r')\n",
    "plt.plot(1/BJs, ms_p, 'o--', label='75% of spins started positive', color='k')\n",
    "plt.xlabel(r'$\\left(\\frac{k}{J}\\right)T$', fontsize=15)\n",
    "plt.ylabel(r'Net Magnetization $(\\bar{m})$', fontsize=15)\n",
    "plt.legend(loc='best', fontsize=15)\n",
    "plt.suptitle(r'Variation of Net Magnetization with Temperature', fontsize=18)\n",
    "plt.grid()\n",
    "plt.show()"
   ]
  },
  {
   "cell_type": "code",
   "execution_count": null,
   "metadata": {},
   "outputs": [],
   "source": [
    "plt.figure(figsize=(14,6))\n",
    "plt.plot(1/BJs, E_means_n, 'o--', label='75% of spins started negative', color='r')\n",
    "plt.plot(1/BJs, E_means_p, 'o--', label='75% of spins started positive', color='k')\n",
    "plt.xlabel(r'$\\left(\\frac{k}{J}\\right)T$', fontsize=15)\n",
    "plt.ylabel(r'Net Energy $(\\bar{E})$', fontsize=15)\n",
    "plt.legend(loc='best', fontsize=15)\n",
    "plt.suptitle(r'Variation of Net Energy with Temperature', fontsize=18)\n",
    "plt.grid()\n",
    "plt.show()"
   ]
  },
  {
   "cell_type": "code",
   "execution_count": null,
   "metadata": {},
   "outputs": [],
   "source": [
    "plt.figure(figsize=(14,6))\n",
    "plt.plot(1/BJs, E_stds_n*BJs, 'o--',label='75% of spins started negative', color='r')\n",
    "plt.plot(1/BJs, E_stds_p*BJs, 'o--', label='75% of spins started positive', color='k')\n",
    "plt.xlabel(r'$\\left(\\frac{k}{J}\\right)T$', fontsize=15)\n",
    "plt.ylabel(r'$C_V / k^2$', fontsize=15)\n",
    "plt.legend(loc='best', fontsize=15)\n",
    "plt.suptitle(r'Variation of Specific Heat Capacity $C_v$ with Temperature', fontsize=18)\n",
    "plt.grid()\n",
    "plt.show()"
   ]
  },
  {
   "cell_type": "code",
   "execution_count": null,
   "metadata": {},
   "outputs": [],
   "source": [
    "plt.figure(figsize=(14,6))\n",
    "plt.plot(1/BJs,ms_stds_n*np.sqrt(BJs), 'o--', label='75% of spins started negative', color='r')\n",
    "plt.plot(1/BJs, ms_stds_p*np.sqrt(BJs), 'o--',label='75% of spins started positive', color='k')\n",
    "plt.xlabel(r'$\\left(\\frac{k}{J}\\right)T$', fontsize=15)\n",
    "plt.ylabel(r' Magnetic Susecptibility $(\\chi)$', fontsize=15)\n",
    "plt.legend(loc='best', fontsize=15)\n",
    "plt.suptitle(r'Variation of Magnetic Suceptibility $\\chi$ with Temperature', fontsize=18)\n",
    "plt.grid()\n",
    "plt.show()"
   ]
  }
 ],
 "metadata": {
  "kernelspec": {
   "display_name": "Python 3",
   "language": "python",
   "name": "python3"
  },
  "language_info": {
   "codemirror_mode": {
    "name": "ipython",
    "version": 3
   },
   "file_extension": ".py",
   "mimetype": "text/x-python",
   "name": "python",
   "nbconvert_exporter": "python",
   "pygments_lexer": "ipython3",
   "version": "3.8.5"
  }
 },
 "nbformat": 4,
 "nbformat_minor": 4
}
